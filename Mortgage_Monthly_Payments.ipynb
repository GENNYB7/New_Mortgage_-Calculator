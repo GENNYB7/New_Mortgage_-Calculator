{
  "nbformat": 4,
  "nbformat_minor": 0,
  "metadata": {
    "colab": {
      "name": "Mortgage_Monthly_Payments.ipynb",
      "provenance": [],
      "collapsed_sections": [],
      "authorship_tag": "ABX9TyPQKBaDe2Xk7W/nWhXuSIYz",
      "include_colab_link": true
    },
    "kernelspec": {
      "name": "python3",
      "display_name": "Python 3"
    },
    "language_info": {
      "name": "python"
    }
  },
  "cells": [
    {
      "cell_type": "markdown",
      "metadata": {
        "id": "view-in-github",
        "colab_type": "text"
      },
      "source": [
        "<a href=\"https://colab.research.google.com/github/GENNYB7/New_Mortgage_-Calculator/blob/main/Mortgage_Monthly_Payments.ipynb\" target=\"_parent\"><img src=\"https://colab.research.google.com/assets/colab-badge.svg\" alt=\"Open In Colab\"/></a>"
      ]
    },
    {
      "cell_type": "code",
      "metadata": {
        "colab": {
          "base_uri": "https://localhost:8080/"
        },
        "id": "v4xy3fSuNpGj",
        "outputId": "d6452392-374a-4a1d-b035-54ac2e209afe"
      },
      "source": [
        "n = 30*12\n",
        "r = (3/100/12)\n",
        "Principal = 400000\n",
        "monthly_payment = (r*Principal*((1+r)** n))/(((1+r)**n)-1)\n",
        "print(monthly_payment)"
      ],
      "execution_count": null,
      "outputs": [
        {
          "output_type": "stream",
          "text": [
            "1686.4161349178241\n"
          ],
          "name": "stdout"
        }
      ]
    }
  ]
}